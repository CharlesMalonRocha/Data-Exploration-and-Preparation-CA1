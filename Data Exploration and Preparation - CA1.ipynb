{
 "cells": [
  {
   "cell_type": "markdown",
   "id": "fac3f0b5",
   "metadata": {},
   "source": [
    "# Problem Domain and Dataset Preparation\n",
    "\n",
    "Violence against women and girls is a huge problem around the world, and it impacts society in so many ways. Looking at the data around this kind of violence really matters for a few reasons. First, it helps us see patterns and trends, which means policymakers, social services, and law enforcement can figure out where to put resources and how to prevent it better. By digging into details—like where this violence happens, who it affects most, and what types are common—we can start understanding why it’s happening and tackle it at the roots.\n",
    "For this assignment, checking out the data will help us see important trends and factors, which can spark real conversations and lead to practical ideas. The analysis can spotlight areas that need attention right now and guide future research or efforts, which fits with global goals like the United Nations' Sustainable Development Goals, especially Goal 5 on Gender Equality and Goal 16 on Peace, Justice, and Strong Institutions.\n",
    "Plus, violence against women has serious effects on health, the economy, and mental well-being for both individuals and communities. It can cause long-term health issues, lower productivity, and lead to higher social and medical costs. In a community, a lot of violence can create fear, weaken trust, and break down social bonds. Tackling these problems needs solid data to steer our actions, and analyzing it is a big step toward making our communities safer."
   ]
  },
  {
   "cell_type": "markdown",
   "id": "ae586bdb",
   "metadata": {},
   "source": []
  },
  {
   "cell_type": "markdown",
   "id": "a795ab66",
   "metadata": {},
   "source": [
    "# Description of the Dataset\n",
    "\n",
    "Regarding Violence Against Girls and Women\n",
    "\n",
    "The goal of the Demographic and Health Surveys (DHS) Program is to improve knowledge of population trends and health in developing nations worldwide.\n",
    "\"One of the most pervasive, enduring, and catastrophic human rights violations in our world today,\" according to the UN, is violence against women and girls (VAWG). Because of the stigma, shame, quiet, and impunity surrounding it, it goes mostly undetected.\n",
    "Generally speaking, it can take the following forms:  sexual violence and harassment (rape, forced sexual acts, unwanted sexual advances, child sexual abuse, forced marriage, street harassment, stalking, cyber-harassment), intimate partner violence (battering, psychological abuse, marital rape, femicide), and human trafficking (slavery, sexual exploitation), child marriage or female genital mutilation\n",
    "\n",
    "\n",
    "About the Data\n",
    "\n",
    "The information came from a poll of men and women in South American, Asian, and African nations that examined their perspectives and the reasons they said were offered for harming women. The information also examines the respondents' various sociodemographic categories, such as age group, employment, marital status, and education level.\n",
    "Therefore, in order to convey the message that violence against women and girls is never acceptable or justified, it is imperative that the nations where these viewpoints are prevalent give public awareness campaigns and educational opportunities for women and girls top priority. "
   ]
  },
  {
   "cell_type": "markdown",
   "id": "8d2104a2",
   "metadata": {},
   "source": []
  },
  {
   "cell_type": "code",
   "execution_count": null,
   "id": "26948835",
   "metadata": {},
   "outputs": [],
   "source": [
    "#Encoding and PCA"
   ]
  },
  {
   "cell_type": "code",
   "execution_count": null,
   "id": "eef9223c",
   "metadata": {},
   "outputs": [],
   "source": []
  },
  {
   "cell_type": "code",
   "execution_count": 2,
   "id": "86fabe4a",
   "metadata": {},
   "outputs": [],
   "source": [
    "import pandas as pd\n",
    "data = pd.read_csv(\"Violence Against Women  Girls Data.csv\")"
   ]
  },
  {
   "cell_type": "code",
   "execution_count": 4,
   "id": "645bfb61",
   "metadata": {},
   "outputs": [
    {
     "name": "stdout",
     "output_type": "stream",
     "text": [
      "<class 'pandas.core.frame.DataFrame'>\n",
      "RangeIndex: 12600 entries, 0 to 12599\n",
      "Data columns (total 8 columns):\n",
      " #   Column                 Non-Null Count  Dtype  \n",
      "---  ------                 --------------  -----  \n",
      " 0   RecordID               12600 non-null  int64  \n",
      " 1   Country                12600 non-null  object \n",
      " 2   Gender                 12600 non-null  object \n",
      " 3   Demographics Question  12600 non-null  object \n",
      " 4   Demographics Response  12600 non-null  object \n",
      " 5   Question               12600 non-null  object \n",
      " 6   Survey Year            12600 non-null  object \n",
      " 7   Value                  11187 non-null  float64\n",
      "dtypes: float64(1), int64(1), object(6)\n",
      "memory usage: 787.6+ KB\n"
     ]
    },
    {
     "data": {
      "text/html": [
       "<div>\n",
       "<style scoped>\n",
       "    .dataframe tbody tr th:only-of-type {\n",
       "        vertical-align: middle;\n",
       "    }\n",
       "\n",
       "    .dataframe tbody tr th {\n",
       "        vertical-align: top;\n",
       "    }\n",
       "\n",
       "    .dataframe thead th {\n",
       "        text-align: right;\n",
       "    }\n",
       "</style>\n",
       "<table border=\"1\" class=\"dataframe\">\n",
       "  <thead>\n",
       "    <tr style=\"text-align: right;\">\n",
       "      <th></th>\n",
       "      <th>RecordID</th>\n",
       "      <th>Country</th>\n",
       "      <th>Gender</th>\n",
       "      <th>Demographics Question</th>\n",
       "      <th>Demographics Response</th>\n",
       "      <th>Question</th>\n",
       "      <th>Survey Year</th>\n",
       "      <th>Value</th>\n",
       "    </tr>\n",
       "  </thead>\n",
       "  <tbody>\n",
       "    <tr>\n",
       "      <th>0</th>\n",
       "      <td>1</td>\n",
       "      <td>Afghanistan</td>\n",
       "      <td>F</td>\n",
       "      <td>Marital status</td>\n",
       "      <td>Never married</td>\n",
       "      <td>... if she burns the food</td>\n",
       "      <td>01/01/2015</td>\n",
       "      <td>NaN</td>\n",
       "    </tr>\n",
       "    <tr>\n",
       "      <th>1</th>\n",
       "      <td>1</td>\n",
       "      <td>Afghanistan</td>\n",
       "      <td>F</td>\n",
       "      <td>Education</td>\n",
       "      <td>Higher</td>\n",
       "      <td>... if she burns the food</td>\n",
       "      <td>01/01/2015</td>\n",
       "      <td>10.1</td>\n",
       "    </tr>\n",
       "    <tr>\n",
       "      <th>2</th>\n",
       "      <td>1</td>\n",
       "      <td>Afghanistan</td>\n",
       "      <td>F</td>\n",
       "      <td>Education</td>\n",
       "      <td>Secondary</td>\n",
       "      <td>... if she burns the food</td>\n",
       "      <td>01/01/2015</td>\n",
       "      <td>13.7</td>\n",
       "    </tr>\n",
       "    <tr>\n",
       "      <th>3</th>\n",
       "      <td>1</td>\n",
       "      <td>Afghanistan</td>\n",
       "      <td>F</td>\n",
       "      <td>Education</td>\n",
       "      <td>Primary</td>\n",
       "      <td>... if she burns the food</td>\n",
       "      <td>01/01/2015</td>\n",
       "      <td>13.8</td>\n",
       "    </tr>\n",
       "    <tr>\n",
       "      <th>4</th>\n",
       "      <td>1</td>\n",
       "      <td>Afghanistan</td>\n",
       "      <td>F</td>\n",
       "      <td>Marital status</td>\n",
       "      <td>Widowed, divorced, separated</td>\n",
       "      <td>... if she burns the food</td>\n",
       "      <td>01/01/2015</td>\n",
       "      <td>13.8</td>\n",
       "    </tr>\n",
       "  </tbody>\n",
       "</table>\n",
       "</div>"
      ],
      "text/plain": [
       "   RecordID      Country Gender Demographics Question  \\\n",
       "0         1  Afghanistan      F        Marital status   \n",
       "1         1  Afghanistan      F             Education   \n",
       "2         1  Afghanistan      F             Education   \n",
       "3         1  Afghanistan      F             Education   \n",
       "4         1  Afghanistan      F        Marital status   \n",
       "\n",
       "          Demographics Response                   Question Survey Year  Value  \n",
       "0                 Never married  ... if she burns the food  01/01/2015    NaN  \n",
       "1                        Higher  ... if she burns the food  01/01/2015   10.1  \n",
       "2                     Secondary  ... if she burns the food  01/01/2015   13.7  \n",
       "3                       Primary  ... if she burns the food  01/01/2015   13.8  \n",
       "4  Widowed, divorced, separated  ... if she burns the food  01/01/2015   13.8  "
      ]
     },
     "execution_count": 4,
     "metadata": {},
     "output_type": "execute_result"
    }
   ],
   "source": [
    "data.info()\n",
    "data.describe()\n",
    "data.head()\n"
   ]
  },
  {
   "cell_type": "code",
   "execution_count": 5,
   "id": "a2039e16",
   "metadata": {},
   "outputs": [],
   "source": [
    "data = data.dropna()  # Example approach: dropping missing rows\n"
   ]
  },
  {
   "cell_type": "code",
   "execution_count": 7,
   "id": "bfc08fcd",
   "metadata": {},
   "outputs": [
    {
     "name": "stderr",
     "output_type": "stream",
     "text": [
      "C:\\Users\\charl\\AppData\\Local\\Temp\\ipykernel_21800\\821953475.py:4: FutureWarning: The default value of numeric_only in DataFrame.corr is deprecated. In a future version, it will default to False. Select only valid columns or specify the value of numeric_only to silence this warning.\n",
      "  sns.heatmap(data.corr(), annot=True, cmap='coolwarm')\n"
     ]
    },
    {
     "data": {
      "image/png": "[encoded data removed]",
      "text/plain": [
       "<Figure size 640x480 with 2 Axes>"
      ]
     },
     "metadata": {},
     "output_type": "display_data"
    }
   ],
   "source": [
    "import seaborn as sns\n",
    "import matplotlib.pyplot as plt\n",
    "\n",
    "sns.heatmap(data.corr(), annot=True, cmap='coolwarm')\n",
    "plt.show()"
   ]
  },
  {
   "cell_type": "code",
   "execution_count": 9,
   "id": "690e9f73",
   "metadata": {},
   "outputs": [
    {
     "name": "stdout",
     "output_type": "stream",
     "text": [
      "Index(['RecordID', 'Country', 'Gender', 'Demographics Question',\n",
      "       'Demographics Response', 'Question', 'Survey Year', 'Value'],\n",
      "      dtype='object')\n"
     ]
    }
   ],
   "source": [
    "print(data.columns)\n"
   ]
  },
  {
   "cell_type": "code",
   "execution_count": null,
   "id": "2a7a0332",
   "metadata": {},
   "outputs": [],
   "source": []
  },
  {
   "cell_type": "code",
   "execution_count": null,
   "id": "c7f158a0",
   "metadata": {},
   "outputs": [],
   "source": [
    "# Poster Presentation\n"
   ]
  },
  {
   "cell_type": "code",
   "execution_count": null,
   "id": "f38a8bf3",
   "metadata": {},
   "outputs": [],
   "source": []
  },
  {
   "cell_type": "code",
   "execution_count": null,
   "id": "4be1a1fe",
   "metadata": {},
   "outputs": [],
   "source": [
    "#Video Presentation"
   ]
  },
  {
   "cell_type": "code",
   "execution_count": null,
   "id": "17a379b3",
   "metadata": {},
   "outputs": [],
   "source": []
  }
 ],
 "metadata": {
  "kernelspec": {
   "display_name": "Python 3 (ipykernel)",
   "language": "python",
   "name": "python3"
  },
  "language_info": {
   "codemirror_mode": {
    "name": "ipython",
    "version": 3
   },
   "file_extension": ".py",
   "mimetype": "text/x-python",
   "name": "python",
   "nbconvert_exporter": "python",
   "pygments_lexer": "ipython3",
   "version": "3.11.4"
  }
 },
 "nbformat": 4,
 "nbformat_minor": 5
}
