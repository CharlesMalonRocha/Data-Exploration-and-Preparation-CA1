{
 "cells": [
  {
   "cell_type": "code",
   "execution_count": null,
   "id": "c9d72ee6",
   "metadata": {},
   "outputs": [],
   "source": [
    "#Problem Domain and Dataset Preparation"
   ]
  },
  {
   "cell_type": "code",
   "execution_count": null,
   "id": "ee42f040",
   "metadata": {},
   "outputs": [],
   "source": []
  },
  {
   "cell_type": "code",
   "execution_count": null,
   "id": "3b32f4fc",
   "metadata": {},
   "outputs": [],
   "source": [
    "# Exploratory Data Analysis"
   ]
  },
  {
   "cell_type": "code",
   "execution_count": null,
   "id": "9fc04c97",
   "metadata": {},
   "outputs": [],
   "source": []
  },
  {
   "cell_type": "code",
   "execution_count": null,
   "id": "26948835",
   "metadata": {},
   "outputs": [],
   "source": [
    "#Encoding and PCA"
   ]
  },
  {
   "cell_type": "code",
   "execution_count": null,
   "id": "eef9223c",
   "metadata": {},
   "outputs": [],
   "source": []
  },
  {
   "cell_type": "code",
   "execution_count": null,
   "id": "c7f158a0",
   "metadata": {},
   "outputs": [],
   "source": [
    "# Poster Presentation\n"
   ]
  },
  {
   "cell_type": "code",
   "execution_count": null,
   "id": "f38a8bf3",
   "metadata": {},
   "outputs": [],
   "source": []
  },
  {
   "cell_type": "code",
   "execution_count": null,
   "id": "4be1a1fe",
   "metadata": {},
   "outputs": [],
   "source": [
    "#Video Presentation"
   ]
  },
  {
   "cell_type": "code",
   "execution_count": null,
   "id": "17a379b3",
   "metadata": {},
   "outputs": [],
   "source": []
  }
 ],
 "metadata": {
  "kernelspec": {
   "display_name": "Python 3 (ipykernel)",
   "language": "python",
   "name": "python3"
  },
  "language_info": {
   "codemirror_mode": {
    "name": "ipython",
    "version": 3
   },
   "file_extension": ".py",
   "mimetype": "text/x-python",
   "name": "python",
   "nbconvert_exporter": "python",
   "pygments_lexer": "ipython3",
   "version": "3.11.4"
  }
 },
 "nbformat": 4,
 "nbformat_minor": 5
}
