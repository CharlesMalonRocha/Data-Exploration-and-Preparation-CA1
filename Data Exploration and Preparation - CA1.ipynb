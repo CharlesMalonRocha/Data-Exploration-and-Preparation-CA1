{
 "cells": [
  {
   "cell_type": "code",
   "execution_count": null,
   "id": "1039c698",
   "metadata": {},
   "outputs": [],
   "source": [
    "#Problem Domain and Dataset Preparation"
   ]
  },
  {
   "cell_type": "code",
   "execution_count": null,
   "id": "c4ccfc09",
   "metadata": {},
   "outputs": [],
   "source": []
  },
  {
   "cell_type": "code",
   "execution_count": null,
   "id": "37ca9ef9",
   "metadata": {},
   "outputs": [],
   "source": [
    "# Exploratory Data Analysis"
   ]
  },
  {
   "cell_type": "code",
   "execution_count": null,
   "id": "afc76eb9",
   "metadata": {},
   "outputs": [],
   "source": []
  },
  {
   "cell_type": "code",
   "execution_count": null,
   "id": "5075e8c2",
   "metadata": {},
   "outputs": [],
   "source": [
    "#Encoding and PCA"
   ]
  },
  {
   "cell_type": "code",
   "execution_count": null,
   "id": "b53755a8",
   "metadata": {},
   "outputs": [],
   "source": []
  },
  {
   "cell_type": "code",
   "execution_count": null,
   "id": "e9a7ee60",
   "metadata": {},
   "outputs": [],
   "source": [
    "# Poster Presentation\n"
   ]
  },
  {
   "cell_type": "code",
   "execution_count": null,
   "id": "e4ea2d69",
   "metadata": {},
   "outputs": [],
   "source": []
  },
  {
   "cell_type": "code",
   "execution_count": null,
   "id": "706fb21c",
   "metadata": {},
   "outputs": [],
   "source": [
    "#Video Presentation"
   ]
  }
 ],
 "metadata": {
  "kernelspec": {
   "display_name": "Python 3 (ipykernel)",
   "language": "python",
   "name": "python3"
  },
  "language_info": {
   "codemirror_mode": {
    "name": "ipython",
    "version": 3
   },
   "file_extension": ".py",
   "mimetype": "text/x-python",
   "name": "python",
   "nbconvert_exporter": "python",
   "pygments_lexer": "ipython3",
   "version": "3.11.4"
  }
 },
 "nbformat": 4,
 "nbformat_minor": 5
}
